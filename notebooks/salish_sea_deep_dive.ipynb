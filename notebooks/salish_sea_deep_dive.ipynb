{
 "cells": [
  {
   "cell_type": "markdown",
   "metadata": {
    "application/vnd.databricks.v1+cell": {
     "cellMetadata": {
      "byteLimit": 2048000,
      "rowLimit": 10000
     },
     "inputWidgets": {},
     "nuid": "a7f7bb18-4f45-47f3-b31d-968a856afa22",
     "showTitle": false,
     "tableResultSettingsMap": {},
     "title": ""
    }
   },
   "source": [
    "# Deciphering vessel movements in the Salish Sea\n",
    "\n",
    "![](assets/tally-ho.png)"
   ]
  },
  {
   "cell_type": "markdown",
   "metadata": {
    "application/vnd.databricks.v1+cell": {
     "cellMetadata": {
      "byteLimit": 2048000,
      "rowLimit": 10000
     },
     "inputWidgets": {},
     "nuid": "5c0997e9-87fb-47e2-91fc-00b28b09080e",
     "showTitle": false,
     "tableResultSettingsMap": {},
     "title": ""
    }
   },
   "source": [
    "__Join me on a voyage of discovery as we sail through some basic spatial data analysis together.__\n",
    "\n",
    "We'll take a look at vessel movements around the Salish Sea in the Pacific North West of the USA and Canada. This is an expanse of water separated from the Pacific Ocean by Vancouver Island and the Olympic Peninsula.\n",
    "\n",
    "It's home to some of the largest ports on the west coast of North America, including the Port of Vancouver, the Port of Seattle, and the Port of Tacoma (which together form the Northwest Seaport Alliance). It sees immense container ship traffic, bulk carriers, cruise ships, and one of the largest ferry networks in the world (BC Ferries and Washington State Ferries).\n",
    "\n",
    "It is also a world-renowned destination for recreational boating. The protected waters, stunning scenery, and the thousands of islands, inlets, and anchorages (like the San Juan Islands and the Gulf Islands) make it a paradise for sailors, yachters, and kayakers."
   ]
  },
  {
   "cell_type": "code",
   "execution_count": 0,
   "metadata": {
    "application/vnd.databricks.v1+cell": {
     "cellMetadata": {
      "byteLimit": 2048000,
      "rowLimit": 10000
     },
     "inputWidgets": {},
     "nuid": "96b9d7a4-c90a-4778-af10-da4843c7d607",
     "showTitle": false,
     "tableResultSettingsMap": {},
     "title": ""
    }
   },
   "outputs": [],
   "source": [
    "%load_ext autoreload\n",
    "%autoreload 2"
   ]
  },
  {
   "cell_type": "code",
   "execution_count": 0,
   "metadata": {
    "application/vnd.databricks.v1+cell": {
     "cellMetadata": {
      "byteLimit": 2048000,
      "rowLimit": 10000
     },
     "inputWidgets": {},
     "nuid": "0ee706ec-8fdb-4e30-b37d-6d8cf2830410",
     "showTitle": false,
     "tableResultSettingsMap": {},
     "title": ""
    },
    "jupyter": {
     "outputs_hidden": true
    }
   },
   "outputs": [],
   "source": [
    "%pip install geopandas numpy==2.1.3 folium>=0.12 matplotlib mapclassify"
   ]
  },
  {
   "cell_type": "code",
   "execution_count": 0,
   "metadata": {
    "application/vnd.databricks.v1+cell": {
     "cellMetadata": {
      "byteLimit": 2048000,
      "rowLimit": 10000
     },
     "inputWidgets": {},
     "nuid": "8f7e913f-d75a-44b1-b8e5-9efe3e9ede92",
     "showTitle": false,
     "tableResultSettingsMap": {},
     "title": ""
    }
   },
   "outputs": [],
   "source": [
    "import os\n",
    "import shutil\n",
    "\n",
    "import geopandas as gpd\n",
    "\n",
    "from databricks.sdk import WorkspaceClient\n",
    "from databricks.sdk.errors import ResourceAlreadyExists\n",
    "from databricks.sdk.service.catalog import VolumeType\n",
    "\n",
    "import pyspark.databricks.sql.functions as DBF\n",
    "import pyspark.sql.functions as F\n",
    "from pyspark.sql.window import Window\n",
    "\n",
    "from utils.reader import ShapefileDataSource"
   ]
  },
  {
   "cell_type": "markdown",
   "metadata": {
    "application/vnd.databricks.v1+cell": {
     "cellMetadata": {
      "byteLimit": 2048000,
      "rowLimit": 10000
     },
     "inputWidgets": {},
     "nuid": "7b1805c7-08ac-4194-b8bf-a673c68dae6a",
     "showTitle": false,
     "tableResultSettingsMap": {},
     "title": ""
    }
   },
   "source": [
    "## Load reference dataset (ports in the area)"
   ]
  },
  {
   "cell_type": "code",
   "execution_count": 0,
   "metadata": {
    "application/vnd.databricks.v1+cell": {
     "cellMetadata": {
      "byteLimit": 2048000,
      "rowLimit": 10000
     },
     "inputWidgets": {},
     "nuid": "2015bce4-e6f0-4580-a6d0-b6445222d8ff",
     "showTitle": false,
     "tableResultSettingsMap": {},
     "title": ""
    }
   },
   "outputs": [],
   "source": [
    "spark.dataSource.register(ShapefileDataSource)"
   ]
  },
  {
   "cell_type": "code",
   "execution_count": 0,
   "metadata": {
    "application/vnd.databricks.v1+cell": {
     "cellMetadata": {
      "byteLimit": 2048000,
      "rowLimit": 10000
     },
     "inputWidgets": {},
     "nuid": "04427cec-618a-466a-8f9a-2a74269cc637",
     "showTitle": false,
     "tableResultSettingsMap": {},
     "title": ""
    }
   },
   "outputs": [],
   "source": [
    "w = WorkspaceClient()\n",
    "\n",
    "user_name = w.current_user.me().user_name\n",
    "\n",
    "CATALOG = \"dbacademy\"\n",
    "SCHEMA = user_name.split(\"@\")[0]\n",
    "VOLUME = \"reference\"\n",
    "\n",
    "INPUT_PATH = f\"/Volumes/{CATALOG}/{SCHEMA}/{VOLUME}\"\n",
    "LAYER_NAME = \"salish-ports\""
   ]
  },
  {
   "cell_type": "code",
   "execution_count": 0,
   "metadata": {
    "application/vnd.databricks.v1+cell": {
     "cellMetadata": {
      "byteLimit": 2048000,
      "rowLimit": 10000
     },
     "inputWidgets": {},
     "nuid": "bb37759b-687a-40f7-96e5-67a6ee74c357",
     "showTitle": false,
     "tableResultSettingsMap": {},
     "title": ""
    }
   },
   "outputs": [],
   "source": [
    "try:\n",
    "    w.volumes.create(\n",
    "        name=VOLUME,\n",
    "        catalog_name=CATALOG,\n",
    "        schema_name=SCHEMA,\n",
    "        volume_type=VolumeType.MANAGED,\n",
    "    )\n",
    "except ResourceAlreadyExists:\n",
    "    print(\"Skipping volume creation. Already exists\")"
   ]
  },
  {
   "cell_type": "code",
   "execution_count": 0,
   "metadata": {
    "application/vnd.databricks.v1+cell": {
     "cellMetadata": {
      "byteLimit": 2048000,
      "rowLimit": 10000
     },
     "inputWidgets": {},
     "nuid": "85a583d0-2950-4458-93e0-635b6de382bb",
     "showTitle": false,
     "tableResultSettingsMap": {},
     "title": ""
    }
   },
   "outputs": [],
   "source": [
    "shutil.copy(f\"{os.getcwd()}/data/salish-ports.zip\", INPUT_PATH)"
   ]
  },
  {
   "cell_type": "code",
   "execution_count": 0,
   "metadata": {
    "application/vnd.databricks.v1+cell": {
     "cellMetadata": {
      "byteLimit": 2048000,
      "rowLimit": 10000
     },
     "inputWidgets": {},
     "nuid": "0584c7e2-0517-4f27-aca7-9ed0376e9f24",
     "showTitle": false,
     "tableResultSettingsMap": {},
     "title": ""
    }
   },
   "outputs": [],
   "source": [
    "ports_raw = (\n",
    "  spark.read.format(\"shapefile\")\n",
    "  .option(\"layer_name\", LAYER_NAME)\n",
    "  .load(INPUT_PATH)\n",
    "  )\n",
    "  \n",
    "display(ports_raw)"
   ]
  },
  {
   "cell_type": "markdown",
   "metadata": {
    "application/vnd.databricks.v1+cell": {
     "cellMetadata": {
      "byteLimit": 2048000,
      "rowLimit": 10000
     },
     "inputWidgets": {},
     "nuid": "378ce15a-a5bc-4a3d-ab1b-e4c2fe1069ea",
     "showTitle": false,
     "tableResultSettingsMap": {},
     "title": ""
    }
   },
   "source": [
    "Expand out feature properties using `from_json` and `schema_of_json` expressions from `pyspark.sql.functions`."
   ]
  },
  {
   "cell_type": "code",
   "execution_count": 0,
   "metadata": {
    "application/vnd.databricks.v1+cell": {
     "cellMetadata": {
      "byteLimit": 2048000,
      "rowLimit": 10000
     },
     "inputWidgets": {},
     "nuid": "fdd794ab-b1ce-4606-9174-df7f1fce948c",
     "showTitle": false,
     "tableResultSettingsMap": {},
     "title": ""
    }
   },
   "outputs": [],
   "source": [
    "props_schema = F.schema_of_json(\n",
    "  \"\"\"{\"OID\":\"1726.0\",\"WPIN\":\"18460.0\",\"REGION\":\"Canada West Coast -- 18080\",\"PORT\":\"Comox Harbor\",\"UN_LOCODE\":\"CA COX\",\"COUNTRY\":\"Canada\",\"WORLD_WATE\":\"Alaska-Canada coastal waters; North Pacific Ocean\",\"SIZE\":\"Small\",\"TYPE\":\"Coastal (Natural)\",\"LAT\":49.666667,\"LON\":-124.916667}\"\"\"\n",
    "  )"
   ]
  },
  {
   "cell_type": "code",
   "execution_count": 0,
   "metadata": {
    "application/vnd.databricks.v1+cell": {
     "cellMetadata": {
      "byteLimit": 2048000,
      "rowLimit": 10000
     },
     "inputWidgets": {},
     "nuid": "80e86324-bf19-43aa-93a3-5af7d6244a3a",
     "showTitle": false,
     "tableResultSettingsMap": {},
     "title": ""
    }
   },
   "outputs": [],
   "source": [
    "ports = (\n",
    "  ports_raw\n",
    "  .withColumn(\"properties\", F.from_json(F.col(\"properties\"), schema=props_schema))\n",
    "  .select(\"geometry\", \"crs\", \"properties.*\")\n",
    ")\n",
    "\n",
    "display(ports)"
   ]
  },
  {
   "cell_type": "markdown",
   "metadata": {
    "application/vnd.databricks.v1+cell": {
     "cellMetadata": {
      "byteLimit": 2048000,
      "rowLimit": 10000
     },
     "inputWidgets": {},
     "nuid": "774646c2-9b68-41ff-bf72-7e62ae94c768",
     "showTitle": false,
     "tableResultSettingsMap": {},
     "title": ""
    }
   },
   "source": [
    "Quickly visualise these using GeoPandas `explore()` method."
   ]
  },
  {
   "cell_type": "code",
   "execution_count": 0,
   "metadata": {
    "application/vnd.databricks.v1+cell": {
     "cellMetadata": {
      "byteLimit": 2048000,
      "rowLimit": 10000
     },
     "inputWidgets": {},
     "nuid": "4de043f7-4510-4203-804f-5c685c06aeec",
     "showTitle": false,
     "tableResultSettingsMap": {},
     "title": ""
    }
   },
   "outputs": [],
   "source": [
    "gpd.GeoSeries.from_wkb(ports_raw.toPandas()[\"geometry\"].values, crs=26910).explore()"
   ]
  },
  {
   "cell_type": "markdown",
   "metadata": {
    "application/vnd.databricks.v1+cell": {
     "cellMetadata": {
      "byteLimit": 2048000,
      "rowLimit": 10000
     },
     "inputWidgets": {},
     "nuid": "f14564b7-3b85-493b-add8-d75952ed0fdf",
     "showTitle": false,
     "tableResultSettingsMap": {},
     "title": ""
    }
   },
   "source": [
    "Construct Databricks GEOMETRY typed column from well-known-binary geometries and transform coordinates from British National Grid projected CRS to WGS84 geographic CRS (EPSG:27700 to EPSG:4326)"
   ]
  },
  {
   "cell_type": "code",
   "execution_count": 0,
   "metadata": {
    "application/vnd.databricks.v1+cell": {
     "cellMetadata": {
      "byteLimit": 2048000,
      "rowLimit": 10000
     },
     "inputWidgets": {},
     "nuid": "a7312d65-af42-4849-977a-76d76885886c",
     "showTitle": false,
     "tableResultSettingsMap": {
      "0": {
       "dataGridStateBlob": null,
       "filterBlob": "{\"version\":1,\"filterGroups\":[{\"enabled\":true,\"filterGroupId\":\"fg_2f3ca99f\",\"op\":\"OR\",\"filters\":[{\"filterId\":\"f_543e3d17\",\"enabled\":true,\"columnId\":\"SIZE\",\"dataType\":\"string\",\"filterType\":\"eqn\",\"filterValue\":\"Very Small\",\"filterConfig\":{\"caseSensitive\":true}}],\"local\":false,\"updatedAt\":1761243323101}],\"syncTimestamp\":1761243323101}",
       "queryPlanFiltersBlob": "[{\"kind\":\"call\",\"function\":\"or\",\"args\":[{\"kind\":\"call\",\"function\":\"not\",\"args\":[{\"kind\":\"call\",\"function\":\"like\",\"args\":[{\"kind\":\"identifier\",\"identifier\":\"SIZE\"},{\"kind\":\"literal\",\"value\":\"Very Small\",\"type\":\"string\"}]}]}]}]",
       "tableResultIndex": 0
      }
     },
     "title": ""
    }
   },
   "outputs": [],
   "source": [
    "property_cols = [\n",
    "  \"OID\",\n",
    "  \"WPIN\",\n",
    "  \"PORT\",\n",
    "  \"UN_LOCODE\",\n",
    "  \"COUNTRY\",\n",
    "  \"REGION\",\n",
    "  \"WORLD_WATE\",\n",
    "  \"SIZE\",\n",
    "  \"TYPE\",\n",
    "  \"LAT\",\n",
    "  \"LON\",\n",
    "]\n",
    "\n",
    "UTM10N = 26910\n",
    "WGS84 = 4326\n",
    "\n",
    "ports_reprojected = (\n",
    "  ports\n",
    "  .withColumn(\"geometry_UTM10N\", DBF.st_geomfromwkb(\"geometry\", UTM10N))\n",
    "  .withColumn(\"geometry_wgs84\", DBF.st_transform(\"geometry_UTM10N\", WGS84))\n",
    "  .where(DBF.st_isvalid(\"geometry_wgs84\"))\n",
    "  .select(*property_cols, \"geometry_UTM10N\", \"geometry_wgs84\")\n",
    ")\n",
    "\n",
    "display(ports_reprojected)"
   ]
  },
  {
   "cell_type": "markdown",
   "metadata": {
    "application/vnd.databricks.v1+cell": {
     "cellMetadata": {
      "byteLimit": 2048000,
      "rowLimit": 10000
     },
     "inputWidgets": {},
     "nuid": "174c8f7d-2f58-4448-911a-3290a81ba55b",
     "showTitle": false,
     "tableResultSettingsMap": {},
     "title": ""
    }
   },
   "source": [
    "Filter these to remove the 'very small' ports. We'll ignore these for the purposes of this analysis."
   ]
  },
  {
   "cell_type": "code",
   "execution_count": 0,
   "metadata": {
    "application/vnd.databricks.v1+cell": {
     "cellMetadata": {
      "byteLimit": 2048000,
      "rowLimit": 10000
     },
     "inputWidgets": {},
     "nuid": "69e47b7b-a8bf-414d-a31e-28c07c06f052",
     "showTitle": false,
     "tableResultSettingsMap": {},
     "title": ""
    }
   },
   "outputs": [],
   "source": [
    "ports_filtered = ports_reprojected.filter(~(F.col(\"SIZE\")==\"Very Small\"))\n",
    "ports_filtered.count()"
   ]
  },
  {
   "cell_type": "code",
   "execution_count": 0,
   "metadata": {
    "application/vnd.databricks.v1+cell": {
     "cellMetadata": {
      "byteLimit": 2048000,
      "rowLimit": 10000
     },
     "inputWidgets": {},
     "nuid": "f621634a-7dbc-44de-8a10-91d1b662925f",
     "showTitle": false,
     "tableResultSettingsMap": {},
     "title": ""
    }
   },
   "outputs": [],
   "source": [
    "ports_tref = f\"{CATALOG}.{SCHEMA}.ports\"\n",
    "spark.sql(f\"DROP TABLE IF EXISTS {ports_tref}\")\n",
    "\n",
    "ports_filtered.write.saveAsTable(ports_tref, mode=\"overwrite\")"
   ]
  },
  {
   "cell_type": "markdown",
   "metadata": {
    "application/vnd.databricks.v1+cell": {
     "cellMetadata": {
      "byteLimit": 2048000,
      "rowLimit": 10000
     },
     "inputWidgets": {},
     "nuid": "04dd8c5f-13a3-4018-911b-426ea2fa7f6a",
     "showTitle": false,
     "tableResultSettingsMap": {},
     "title": ""
    }
   },
   "source": [
    "## Connecting the dots\n",
    "\n",
    "Great, let's bring this together with our AIS data"
   ]
  },
  {
   "cell_type": "code",
   "execution_count": 0,
   "metadata": {
    "application/vnd.databricks.v1+cell": {
     "cellMetadata": {
      "byteLimit": 2048000,
      "implicitDf": true,
      "rowLimit": 10000
     },
     "inputWidgets": {},
     "nuid": "efbd3213-afba-4447-8fdd-ad41925193f4",
     "showTitle": false,
     "tableResultSettingsMap": {},
     "title": ""
    }
   },
   "outputs": [],
   "source": [
    "%sql\n",
    "select * from stuart.pubsecgeo.ais_data_sample"
   ]
  },
  {
   "cell_type": "code",
   "execution_count": 0,
   "metadata": {
    "application/vnd.databricks.v1+cell": {
     "cellMetadata": {
      "byteLimit": 2048000,
      "rowLimit": 10000
     },
     "inputWidgets": {},
     "nuid": "2ec8f864-2a94-4bdf-b704-186abe5a10b0",
     "showTitle": false,
     "tableResultSettingsMap": {},
     "title": ""
    }
   },
   "outputs": [],
   "source": [
    "_sqldf.count()"
   ]
  },
  {
   "cell_type": "markdown",
   "metadata": {
    "application/vnd.databricks.v1+cell": {
     "cellMetadata": {
      "byteLimit": 2048000,
      "rowLimit": 10000
     },
     "inputWidgets": {},
     "nuid": "0600e152-1300-4c55-a884-9673ddd5568e",
     "showTitle": false,
     "tableResultSettingsMap": {},
     "title": ""
    }
   },
   "source": [
    "There's a lot of data here, let's subset it to just our area of interest."
   ]
  },
  {
   "cell_type": "markdown",
   "metadata": {
    "application/vnd.databricks.v1+cell": {
     "cellMetadata": {
      "byteLimit": 2048000,
      "rowLimit": 10000
     },
     "inputWidgets": {},
     "nuid": "92aaa484-839c-4bed-885c-0dae9817dc17",
     "showTitle": false,
     "tableResultSettingsMap": {},
     "title": ""
    }
   },
   "source": [
    "We're going to create a buffer of 1 NM (Nautical Mile, not nanometre!) around each of our ports, then compute an envelope around this region to perform a very rough filtering of the AIS events."
   ]
  },
  {
   "cell_type": "code",
   "execution_count": 0,
   "metadata": {
    "application/vnd.databricks.v1+cell": {
     "cellMetadata": {
      "byteLimit": 2048000,
      "rowLimit": 10000
     },
     "inputWidgets": {},
     "nuid": "fed7f4ea-a68c-43c6-b70d-72705702c986",
     "showTitle": false,
     "tableResultSettingsMap": {
      "0": {
       "dataGridStateBlob": "{\"version\":1,\"tableState\":{\"columnPinning\":{\"left\":[\"#row_number#\"],\"right\":[]},\"columnSizing\":{},\"columnVisibility\":{}},\"settings\":{\"columns\":{}},\"syncTimestamp\":1761246415372}",
       "filterBlob": null,
       "queryPlanFiltersBlob": null,
       "tableResultIndex": 0
      }
     },
     "title": ""
    }
   },
   "outputs": [],
   "source": [
    "buffered_ports = (\n",
    "    spark.table(ports_tref)\n",
    "    # 1. Buffer in the projected CRS for accurate distance\n",
    "    .withColumn(\n",
    "        \"buffered_geom_projected\", DBF.st_buffer(\"geometry_UTM10N\", F.lit(1 * 1852))\n",
    "    )\n",
    "    # 2. Reproject the accurate buffer to CRS84 to match AIS data\n",
    "    .withColumn(\n",
    "        \"buffered_geom_wgs84\",\n",
    "        DBF.st_transform(\"buffered_geom_projected\", WGS84),\n",
    "    )\n",
    ")\n",
    "\n",
    "buffered_ports.display()"
   ]
  },
  {
   "cell_type": "code",
   "execution_count": 0,
   "metadata": {
    "application/vnd.databricks.v1+cell": {
     "cellMetadata": {
      "byteLimit": 2048000,
      "rowLimit": 10000
     },
     "inputWidgets": {},
     "nuid": "70adb64b-0f2f-47ac-baae-74aab1993955",
     "showTitle": false,
     "tableResultSettingsMap": {},
     "title": ""
    }
   },
   "outputs": [],
   "source": [
    "salish_sea_envelope = buffered_ports.groupBy().agg(\n",
    "    DBF.st_envelope_agg(\"buffered_geom_wgs84\").alias(\"filter_envelope\")\n",
    ")"
   ]
  },
  {
   "cell_type": "code",
   "execution_count": 0,
   "metadata": {
    "application/vnd.databricks.v1+cell": {
     "cellMetadata": {
      "byteLimit": 2048000,
      "rowLimit": 10000
     },
     "inputWidgets": {},
     "nuid": "31de2ff2-9bfe-47b8-a944-0a6c3c4a5095",
     "showTitle": false,
     "tableResultSettingsMap": {},
     "title": ""
    }
   },
   "outputs": [],
   "source": [
    "ais_events_tref = f\"{CATALOG}.{SCHEMA}.ais_data_sample\"\n",
    "\n",
    "filtered_ais_events = (\n",
    "  spark.table(ais_events_tref).alias(\"e\")\n",
    "  .join(salish_sea_envelope.alias(\"p\"), on=(\n",
    "    (F.col(\"e.longitude\")>=DBF.st_xmin(\"p.filter_envelope\")) &\n",
    "    (F.col(\"e.longitude\")<=DBF.st_xmax(\"p.filter_envelope\")) &\n",
    "    (F.col(\"e.latitude\")>=DBF.st_ymin(\"p.filter_envelope\")) &\n",
    "    (F.col(\"e.latitude\")<=DBF.st_ymax(\"p.filter_envelope\"))\n",
    "        )\n",
    "  )\n",
    "  )\n",
    "filtered_ais_events.count()"
   ]
  },
  {
   "cell_type": "markdown",
   "metadata": {
    "application/vnd.databricks.v1+cell": {
     "cellMetadata": {
      "byteLimit": 2048000,
      "rowLimit": 10000
     },
     "inputWidgets": {},
     "nuid": "f0362e33-ee45-426a-ba87-b0fbadbd8001",
     "showTitle": false,
     "tableResultSettingsMap": {},
     "title": ""
    }
   },
   "source": [
    "## Identify vessels in port"
   ]
  },
  {
   "cell_type": "markdown",
   "metadata": {
    "application/vnd.databricks.v1+cell": {
     "cellMetadata": {
      "byteLimit": 2048000,
      "rowLimit": 10000
     },
     "inputWidgets": {},
     "nuid": "fb9410b2-f02f-45c1-8be9-7d8eace2240e",
     "showTitle": false,
     "tableResultSettingsMap": {},
     "title": ""
    }
   },
   "source": [
    "Now we can go ahead and find all of the AIS events corresponding to vessels in the buffer zone around a port."
   ]
  },
  {
   "cell_type": "code",
   "execution_count": 0,
   "metadata": {
    "application/vnd.databricks.v1+cell": {
     "cellMetadata": {
      "byteLimit": 2048000,
      "rowLimit": 10000
     },
     "inputWidgets": {},
     "nuid": "68d77b74-16e6-49c3-82d5-31052471c2c1",
     "showTitle": false,
     "tableResultSettingsMap": {
      "0": {
       "dataGridStateBlob": "{\"version\":1,\"tableState\":{\"columnPinning\":{\"left\":[\"#row_number#\"],\"right\":[]},\"columnSizing\":{},\"columnVisibility\":{}},\"settings\":{\"columns\":{}},\"syncTimestamp\":1761246484878}",
       "filterBlob": null,
       "queryPlanFiltersBlob": null,
       "tableResultIndex": 0
      }
     },
     "title": ""
    }
   },
   "outputs": [],
   "source": [
    "ais_in_ports = (\n",
    "    filtered_ais_events.alias(\"e\")\n",
    "    .join(\n",
    "        buffered_ports.hint(\"broadcast\").alias(\"p\"), \n",
    "        on=DBF.st_intersects(F.col(\"e.point_geom\"), F.col(\"p.buffered_geom_wgs84\"))\n",
    "    )\n",
    "    .select(\n",
    "        \"mmsi\", \n",
    "        \"vessel_name\",\n",
    "        \"timestamp\",\n",
    "        \"OID\",\n",
    "        \"PORT\"\n",
    "    )\n",
    ")\n",
    "\n",
    "ais_in_ports.display()"
   ]
  },
  {
   "cell_type": "markdown",
   "metadata": {
    "application/vnd.databricks.v1+cell": {
     "cellMetadata": {
      "byteLimit": 2048000,
      "rowLimit": 10000
     },
     "inputWidgets": {},
     "nuid": "d85d26c4-8793-44f8-bb89-0e212a84a0c0",
     "showTitle": false,
     "tableResultSettingsMap": {},
     "title": ""
    }
   },
   "source": [
    "By 'sessionizing' this trail of events, we can trace out the journeys between ports."
   ]
  },
  {
   "cell_type": "code",
   "execution_count": 0,
   "metadata": {
    "application/vnd.databricks.v1+cell": {
     "cellMetadata": {
      "byteLimit": 2048000,
      "rowLimit": 10000
     },
     "inputWidgets": {},
     "nuid": "6e5e39a2-5ad9-4828-8bf9-48480d1a79c4",
     "showTitle": false,
     "tableResultSettingsMap": {},
     "title": ""
    }
   },
   "outputs": [],
   "source": [
    "vessel_window = Window.partitionBy(\"mmsi\").orderBy(\"timestamp\")"
   ]
  },
  {
   "cell_type": "code",
   "execution_count": 0,
   "metadata": {
    "application/vnd.databricks.v1+cell": {
     "cellMetadata": {
      "byteLimit": 2048000,
      "rowLimit": 10000
     },
     "inputWidgets": {},
     "nuid": "29f1ea18-894f-496d-9cc4-a2b5928fa1df",
     "showTitle": false,
     "tableResultSettingsMap": {},
     "title": ""
    }
   },
   "outputs": [],
   "source": [
    "ais_with_gaps = (\n",
    "    ais_in_ports\n",
    "    .withColumn(\"prev_port\", F.lag(\"OID\").over(vessel_window))\n",
    "    .withColumn(\"prev_time\", F.lag(\"timestamp\").over(vessel_window))\n",
    "    .withColumn(\n",
    "        \"is_new_session\",\n",
    "        (\n",
    "            (F.col(\"prev_port\") != F.col(\"OID\")) | # Port changed\n",
    "            (F.col(\"prev_port\").isNull()) # First-ever ping\n",
    "        ).cast(\"integer\")\n",
    "    )\n",
    ")"
   ]
  },
  {
   "cell_type": "code",
   "execution_count": 0,
   "metadata": {
    "application/vnd.databricks.v1+cell": {
     "cellMetadata": {
      "byteLimit": 2048000,
      "rowLimit": 10000
     },
     "inputWidgets": {},
     "nuid": "958e625b-fb48-4b61-bdad-2a46cbde0bc1",
     "showTitle": false,
     "tableResultSettingsMap": {},
     "title": ""
    }
   },
   "outputs": [],
   "source": [
    "session_window = Window.partitionBy(\"mmsi\").orderBy(\"timestamp\")\n",
    "\n",
    "ais_with_sessions = (\n",
    "    ais_with_gaps\n",
    "    .withColumn(\"session_id\", F.sum(\"is_new_session\").over(session_window))\n",
    ")"
   ]
  },
  {
   "cell_type": "markdown",
   "metadata": {
    "application/vnd.databricks.v1+cell": {
     "cellMetadata": {
      "byteLimit": 2048000,
      "rowLimit": 10000
     },
     "inputWidgets": {},
     "nuid": "002a96de-20dd-46c2-a63c-f229cc27fa89",
     "showTitle": false,
     "tableResultSettingsMap": {},
     "title": ""
    }
   },
   "source": [
    "We'll apply a criteria that port stays require loitering in the buffer for at least 15 minutes"
   ]
  },
  {
   "cell_type": "code",
   "execution_count": 0,
   "metadata": {
    "application/vnd.databricks.v1+cell": {
     "cellMetadata": {
      "byteLimit": 2048000,
      "rowLimit": 10000
     },
     "inputWidgets": {},
     "nuid": "b3f5bd87-583f-4390-96e6-23cf9f278c3e",
     "showTitle": false,
     "tableResultSettingsMap": {},
     "title": ""
    }
   },
   "outputs": [],
   "source": [
    "port_stays = (\n",
    "    ais_with_sessions\n",
    "    .groupBy(\"mmsi\", \"vessel_name\", \"OID\", \"PORT\", \"session_id\")\n",
    "    .agg(\n",
    "        F.min(\"timestamp\").alias(\"arrival_time\"),\n",
    "        F.max(\"timestamp\").alias(\"departure_time\")\n",
    "    )\n",
    "    .withColumn(\"duration_seconds\", \n",
    "                F.col(\"departure_time\").cast(\"long\") - F.col(\"arrival_time\").cast(\"long\"))\n",
    "    .filter(F.col(\"duration_seconds\") > (15 * 60)) \n",
    ")\n",
    "\n",
    "port_stays.display()"
   ]
  },
  {
   "cell_type": "markdown",
   "metadata": {
    "application/vnd.databricks.v1+cell": {
     "cellMetadata": {
      "byteLimit": 2048000,
      "rowLimit": 10000
     },
     "inputWidgets": {},
     "nuid": "f80bdc66-5d2e-4365-9833-7e33f8df54c8",
     "showTitle": false,
     "tableResultSettingsMap": {},
     "title": ""
    }
   },
   "source": [
    "## Compute O/D journey counts"
   ]
  },
  {
   "cell_type": "code",
   "execution_count": 0,
   "metadata": {
    "application/vnd.databricks.v1+cell": {
     "cellMetadata": {
      "byteLimit": 2048000,
      "rowLimit": 10000
     },
     "inputWidgets": {},
     "nuid": "d33c516c-5874-474f-bc95-885d2220467e",
     "showTitle": false,
     "tableResultSettingsMap": {},
     "title": ""
    }
   },
   "outputs": [
    {
     "output_type": "display_data",
     "data": {
      "text/plain": [
       "Databricks visualization. Run in Databricks to view."
      ]
     },
     "metadata": {
      "application/vnd.databricks.v1.subcommand+json": {
       "baseErrorDetails": null,
       "bindings": {},
       "collapsed": false,
       "command": "%python\n__backend_agg_display_orig = display\n__backend_agg_dfs = []\ndef __backend_agg_display_new(df):\n    __backend_agg_df_modules = [\"pandas.core.frame\", \"databricks.koalas.frame\", \"pyspark.sql.dataframe\", \"pyspark.pandas.frame\", \"pyspark.sql.connect.dataframe\"]\n    if (type(df).__module__ in __backend_agg_df_modules and type(df).__name__ == 'DataFrame') or isinstance(df, list):\n        __backend_agg_dfs.append(df)\n\ndisplay = __backend_agg_display_new\n\ndef __backend_agg_user_code_fn():\n    import base64\n    exec(base64.standard_b64decode(\"am91cm5leV93aW5kb3cgPSBXaW5kb3cucGFydGl0aW9uQnkoIm1tc2kiKS5vcmRlckJ5KCJhcnJpdmFsX3RpbWUiKQoKIyAyLiBHZXQgdGhlICdvcmlnaW4nIChjdXJyZW50IHBvcnQpIGFuZCAnZGVzdGluYXRpb24nIChuZXh0IHBvcnQpCmpvdXJuZXlzID0gKAogICAgcG9ydF9zdGF5cwogICAgLndpdGhDb2x1bW4oImRlc3RpbmF0aW9uX3BvcnQiLCBGLmxlYWQoIlBPUlQiKS5vdmVyKGpvdXJuZXlfd2luZG93KSkKICAgIC53aXRoQ29sdW1uKCJvcmlnaW5fcG9ydCIsIEYuY29sKCJQT1JUIikpCiAgICAuZmlsdGVyKEYuY29sKCJkZXN0aW5hdGlvbl9wb3J0IikuaXNOb3ROdWxsKCkpICMgUmVtb3ZlIGxhc3Qta25vd24gam91cm5leXMKICAgIC5maWx0ZXIoRi5jb2woIm9yaWdpbl9wb3J0IikgIT0gRi5jb2woImRlc3RpbmF0aW9uX3BvcnQiKSkgCikKCiMgMy4gQ29tcHV0ZSB0aGUgTy9EIG1hdHJpeCEKb2RfbWF0cml4ID0gKAogICAgam91cm5leXMKICAgIC5ncm91cEJ5KCJvcmlnaW5fcG9ydCIsICJkZXN0aW5hdGlvbl9wb3J0IikKICAgIC5jb3VudCgpCiAgICAub3JkZXJCeShGLmNvbCgiY291bnQiKS5kZXNjKCkpCikKCm9kX21hdHJpeC5kaXNwbGF5KCk=\").decode())\n\ntry:\n    # run user code\n    __backend_agg_user_code_fn()\n\n    #reset display function\n    display = __backend_agg_display_orig\n\n    if len(__backend_agg_dfs) > 0:\n        # create a temp view\n        if type(__backend_agg_dfs[0]).__module__ == \"databricks.koalas.frame\":\n            # koalas dataframe\n            __backend_agg_dfs[0].to_spark().createOrReplaceTempView(\"DatabricksViewd7e9e00\")\n        elif type(__backend_agg_dfs[0]).__module__ == \"pandas.core.frame\" or isinstance(__backend_agg_dfs[0], list):\n            # pandas dataframe\n            spark.createDataFrame(__backend_agg_dfs[0]).createOrReplaceTempView(\"DatabricksViewd7e9e00\")\n        else:\n            __backend_agg_dfs[0].createOrReplaceTempView(\"DatabricksViewd7e9e00\")\n        #run backend agg\n        display(spark.sql(\"\"\"WITH q AS (select * from DatabricksViewd7e9e00) SELECT `origin_port`,`destination_port`,SUM(`count`) `count_alias` FROM q GROUP BY `destination_port`,`origin_port` ORDER BY `origin_port` ASC,`destination_port` ASC\"\"\"))\n    else:\n        displayHTML(\"dataframe no longer exists. If you're using dataframe.display(), use display(dataframe) instead.\")\n\n\nfinally:\n    spark.sql(\"drop view if exists DatabricksViewd7e9e00\")\n    display = __backend_agg_display_orig\n    del __backend_agg_display_new\n    del __backend_agg_display_orig\n    del __backend_agg_dfs\n    del __backend_agg_user_code_fn\n\n",
       "commandTitle": "Visualization 1",
       "commandType": "auto",
       "commandVersion": 0,
       "commentThread": [],
       "commentsVisible": false,
       "contentSha256Hex": null,
       "customPlotOptions": {
        "redashChart": [
         {
          "key": "type",
          "value": "PIVOT_TABLE"
         },
         {
          "key": "options",
          "value": {
           "cell": {
            "field": "count",
            "transform": {
             "fn": "sum"
            }
           },
           "columns": [
            {
             "field": "destination_port",
             "sort": "ascending"
            }
           ],
           "rows": [
            {
             "field": "origin_port",
             "sort": "ascending"
            }
           ]
          }
         }
        ]
       },
       "datasetPreviewNameToCmdIdMap": {},
       "diffDeletes": [],
       "diffInserts": [],
       "displayType": "redashChart",
       "error": null,
       "errorDetails": null,
       "errorSummary": null,
       "errorTraceType": null,
       "finishTime": 0,
       "globalVars": {},
       "guid": "",
       "height": "auto",
       "hideCommandCode": false,
       "hideCommandResult": false,
       "iPythonMetadata": null,
       "inputWidgets": {},
       "isLockedInExamMode": false,
       "latestAssumeRoleInfo": null,
       "latestUser": "a user",
       "latestUserId": null,
       "listResultMetadata": null,
       "metadata": {
        "byteLimit": 2048000,
        "rowLimit": 10000
       },
       "nuid": "245b41ed-31a4-489c-8e0b-eb367554cd31",
       "origId": 0,
       "parentHierarchy": [],
       "pivotAggregation": null,
       "pivotColumns": null,
       "position": 15.0,
       "resultDbfsErrorMessage": null,
       "resultDbfsStatus": "INLINED_IN_TREE",
       "results": null,
       "showCommandTitle": false,
       "startTime": 0,
       "state": "input",
       "streamStates": {},
       "subcommandOptions": {
        "queryPlan": {
         "groups": [
          {
           "column": "origin_port",
           "type": "column"
          },
          {
           "column": "destination_port",
           "type": "column"
          }
         ],
         "order_by": [
          {
           "direction": "asc",
           "expression": {
            "identifier": "origin_port",
            "kind": "identifier"
           }
          },
          {
           "direction": "asc",
           "expression": {
            "identifier": "destination_port",
            "kind": "identifier"
           }
          }
         ],
         "selects": [
          {
           "column": "origin_port",
           "type": "column"
          },
          {
           "column": "destination_port",
           "type": "column"
          },
          {
           "alias": "count_alias",
           "args": [
            {
             "column": "count",
             "type": "column"
            }
           ],
           "function": "SUM",
           "type": "function"
          }
         ]
        }
       },
       "submitTime": 0,
       "subtype": "tableResultSubCmd.visualization",
       "tableResultIndex": 0,
       "tableResultSettingsMap": {},
       "useConsistentColors": false,
       "version": "CommandV1",
       "width": "auto",
       "workflows": null,
       "xColumns": null,
       "yColumns": null
      }
     },
     "output_type": "display_data"
    },
    {
     "output_type": "display_data",
     "data": {
      "text/plain": [
       "Databricks visualization. Run in Databricks to view."
      ]
     },
     "metadata": {
      "application/vnd.databricks.v1.subcommand+json": {
       "baseErrorDetails": null,
       "bindings": {},
       "collapsed": false,
       "command": "%python\n__backend_agg_display_orig = display\n__backend_agg_dfs = []\ndef __backend_agg_display_new(df):\n    __backend_agg_df_modules = [\"pandas.core.frame\", \"databricks.koalas.frame\", \"pyspark.sql.dataframe\", \"pyspark.pandas.frame\", \"pyspark.sql.connect.dataframe\"]\n    if (type(df).__module__ in __backend_agg_df_modules and type(df).__name__ == 'DataFrame') or isinstance(df, list):\n        __backend_agg_dfs.append(df)\n\ndisplay = __backend_agg_display_new\n\ndef __backend_agg_user_code_fn():\n    import base64\n    exec(base64.standard_b64decode(\"am91cm5leV93aW5kb3cgPSBXaW5kb3cucGFydGl0aW9uQnkoIm1tc2kiKS5vcmRlckJ5KCJhcnJpdmFsX3RpbWUiKQoKIyAyLiBHZXQgdGhlICdvcmlnaW4nIChjdXJyZW50IHBvcnQpIGFuZCAnZGVzdGluYXRpb24nIChuZXh0IHBvcnQpCmpvdXJuZXlzID0gKAogICAgcG9ydF9zdGF5cwogICAgLndpdGhDb2x1bW4oImRlc3RpbmF0aW9uX3BvcnQiLCBGLmxlYWQoIlBPUlQiKS5vdmVyKGpvdXJuZXlfd2luZG93KSkKICAgIC53aXRoQ29sdW1uKCJvcmlnaW5fcG9ydCIsIEYuY29sKCJQT1JUIikpCiAgICAuZmlsdGVyKEYuY29sKCJkZXN0aW5hdGlvbl9wb3J0IikuaXNOb3ROdWxsKCkpICMgUmVtb3ZlIGxhc3Qta25vd24gam91cm5leXMKICAgIC5maWx0ZXIoRi5jb2woIm9yaWdpbl9wb3J0IikgIT0gRi5jb2woImRlc3RpbmF0aW9uX3BvcnQiKSkgCikKCiMgMy4gQ29tcHV0ZSB0aGUgTy9EIG1hdHJpeCEKb2RfbWF0cml4ID0gKAogICAgam91cm5leXMKICAgIC5ncm91cEJ5KCJvcmlnaW5fcG9ydCIsICJkZXN0aW5hdGlvbl9wb3J0IikKICAgIC5jb3VudCgpCiAgICAub3JkZXJCeShGLmNvbCgiY291bnQiKS5kZXNjKCkpCikKCm9kX21hdHJpeC5kaXNwbGF5KCk=\").decode())\n\ntry:\n    # run user code\n    __backend_agg_user_code_fn()\n\n    #reset display function\n    display = __backend_agg_display_orig\n\n    if len(__backend_agg_dfs) > 0:\n        # create a temp view\n        if type(__backend_agg_dfs[0]).__module__ == \"databricks.koalas.frame\":\n            # koalas dataframe\n            __backend_agg_dfs[0].to_spark().createOrReplaceTempView(\"DatabricksViewc487029\")\n        elif type(__backend_agg_dfs[0]).__module__ == \"pandas.core.frame\" or isinstance(__backend_agg_dfs[0], list):\n            # pandas dataframe\n            spark.createDataFrame(__backend_agg_dfs[0]).createOrReplaceTempView(\"DatabricksViewc487029\")\n        else:\n            __backend_agg_dfs[0].createOrReplaceTempView(\"DatabricksViewc487029\")\n        #run backend agg\n        display(spark.sql(\"\"\"WITH q AS (select * from DatabricksViewc487029) SELECT `origin_port`,`destination_port`,SUM(`count`) `column_d6cf00e4575` FROM q GROUP BY `destination_port`,`origin_port`\"\"\"))\n    else:\n        displayHTML(\"dataframe no longer exists. If you're using dataframe.display(), use display(dataframe) instead.\")\n\n\nfinally:\n    spark.sql(\"drop view if exists DatabricksViewc487029\")\n    display = __backend_agg_display_orig\n    del __backend_agg_display_new\n    del __backend_agg_display_orig\n    del __backend_agg_dfs\n    del __backend_agg_user_code_fn\n\n",
       "commandTitle": "Visualization 2",
       "commandType": "auto",
       "commandVersion": 0,
       "commentThread": [],
       "commentsVisible": false,
       "contentSha256Hex": null,
       "customPlotOptions": {
        "redashChart": [
         {
          "key": "type",
          "value": "CHART"
         },
         {
          "key": "options",
          "value": {
           "alignYAxesAtZero": true,
           "coefficient": 1,
           "columnConfigurationMap": {
            "x": {
             "column": "origin_port",
             "id": "column_d6cf00e4572"
            },
            "y": [
             {
              "column": "destination_port",
              "id": "column_d6cf00e4573"
             }
            ],
            "zVal": {
             "column": "count",
             "id": "column_d6cf00e4575",
             "transform": "SUM"
            }
           },
           "dateTimeFormat": "DD/MM/YYYY HH:mm",
           "direction": {
            "type": "counterclockwise"
           },
           "error_y": {
            "type": "data",
            "visible": true
           },
           "globalSeriesType": "heatmap",
           "isAggregationOn": true,
           "legend": {
            "traceorder": "normal"
           },
           "missingValuesAsZero": true,
           "numberFormat": "0,0.[00000]",
           "percentFormat": "0[.]00%",
           "series": {
            "error_y": {
             "type": "data",
             "visible": true
            },
            "stacking": null
           },
           "seriesOptions": {
            "column_d6cf00e4573": {
             "type": "heatmap",
             "yAxis": 0
            }
           },
           "showDataLabels": false,
           "sizemode": "diameter",
           "sortX": true,
           "sortY": true,
           "swappedAxes": false,
           "textFormat": "",
           "useAggregationsUi": true,
           "valuesOptions": {},
           "version": 2,
           "xAxis": {
            "labels": {
             "enabled": true
            },
            "type": "-"
           },
           "yAxis": [
            {
             "type": "-"
            },
            {
             "opposite": true,
             "type": "-"
            }
           ]
          }
         }
        ]
       },
       "datasetPreviewNameToCmdIdMap": {},
       "diffDeletes": [],
       "diffInserts": [],
       "displayType": "redashChart",
       "error": null,
       "errorDetails": null,
       "errorSummary": null,
       "errorTraceType": null,
       "finishTime": 0,
       "globalVars": {},
       "guid": "",
       "height": "auto",
       "hideCommandCode": false,
       "hideCommandResult": false,
       "iPythonMetadata": null,
       "inputWidgets": {},
       "isLockedInExamMode": false,
       "latestAssumeRoleInfo": null,
       "latestUser": "a user",
       "latestUserId": null,
       "listResultMetadata": null,
       "metadata": {
        "byteLimit": 2048000,
        "rowLimit": 10000
       },
       "nuid": "fa3bd1de-dc38-408a-9a6e-4e29c693a5d0",
       "origId": 0,
       "parentHierarchy": [],
       "pivotAggregation": null,
       "pivotColumns": null,
       "position": 16.0,
       "resultDbfsErrorMessage": null,
       "resultDbfsStatus": "INLINED_IN_TREE",
       "results": null,
       "showCommandTitle": false,
       "startTime": 0,
       "state": "input",
       "streamStates": {},
       "subcommandOptions": {
        "queryPlan": {
         "groups": [
          {
           "column": "origin_port",
           "type": "column"
          },
          {
           "column": "destination_port",
           "type": "column"
          }
         ],
         "selects": [
          {
           "column": "origin_port",
           "type": "column"
          },
          {
           "column": "destination_port",
           "type": "column"
          },
          {
           "alias": "column_d6cf00e4575",
           "args": [
            {
             "column": "count",
             "type": "column"
            }
           ],
           "function": "SUM",
           "type": "function"
          }
         ]
        }
       },
       "submitTime": 0,
       "subtype": "tableResultSubCmd.visualization",
       "tableResultIndex": 0,
       "tableResultSettingsMap": {},
       "useConsistentColors": false,
       "version": "CommandV1",
       "width": "auto",
       "workflows": null,
       "xColumns": null,
       "yColumns": null
      }
     },
     "output_type": "display_data"
    }
   ],
   "source": [
    "journey_window = Window.partitionBy(\"mmsi\").orderBy(\"arrival_time\")\n",
    "\n",
    "# 2. Get the 'origin' (current port) and 'destination' (next port)\n",
    "journeys = (\n",
    "    port_stays\n",
    "    .withColumn(\"destination_port\", F.lead(\"PORT\").over(journey_window))\n",
    "    .withColumn(\"origin_port\", F.col(\"PORT\"))\n",
    "    .filter(F.col(\"destination_port\").isNotNull()) # Remove last-known journeys\n",
    "    .filter(F.col(\"origin_port\") != F.col(\"destination_port\")) \n",
    ")\n",
    "\n",
    "# 3. Compute the O/D matrix!\n",
    "od_matrix = (\n",
    "    journeys\n",
    "    .groupBy(\"origin_port\", \"destination_port\")\n",
    "    .count()\n",
    "    .orderBy(F.col(\"count\").desc())\n",
    ")\n",
    "\n",
    "od_matrix.display()"
   ]
  }
 ],
 "metadata": {
  "application/vnd.databricks.v1+notebook": {
   "computePreferences": null,
   "dashboards": [],
   "environmentMetadata": {
    "base_environment": "",
    "environment_version": "4"
   },
   "inputWidgetPreferences": null,
   "language": "python",
   "notebookMetadata": {
    "mostRecentlyExecutedCommandWithImplicitDF": {
     "commandId": 4787305639455506,
     "dataframes": [
      "_sqldf"
     ]
    },
    "pythonIndentUnit": 2
   },
   "notebookName": "salish_sea_deep_dive",
   "widgets": {}
  },
  "language_info": {
   "name": "python"
  }
 },
 "nbformat": 4,
 "nbformat_minor": 0
}
